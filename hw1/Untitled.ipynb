{
 "cells": [
  {
   "cell_type": "code",
   "execution_count": 4,
   "metadata": {},
   "outputs": [],
   "source": [
    "import numpy.random\n",
    "import matplotlib.pyplot as plt"
   ]
  },
  {
   "cell_type": "code",
   "execution_count": 5,
   "metadata": {},
   "outputs": [
    {
     "data": {
      "image/png": "[encoded data removed]",
      "text/plain": [
       "<Figure size 432x288 with 1 Axes>"
      ]
     },
     "metadata": {
      "needs_background": "light"
     },
     "output_type": "display_data"
    }
   ],
   "source": [
    "mean = [0, 0]\n",
    "cov = [[9, 0], [0, 1]]\n",
    "\n",
    "x, y = numpy.random.multivariate_normal(mean, cov, 100).T\n",
    "plt.plot(x, y, 'x')\n",
    "plt.axis('equal')\n",
    "plt.show()"
   ]
  },
  {
   "cell_type": "code",
   "execution_count": 6,
   "metadata": {},
   "outputs": [
    {
     "data": {
      "image/png": "[encoded data removed]",
      "text/plain": [
       "<Figure size 432x288 with 1 Axes>"
      ]
     },
     "metadata": {
      "needs_background": "light"
     },
     "output_type": "display_data"
    }
   ],
   "source": [
    "mean = [0, 0]\n",
    "cov = [[1, -.75], [-.75, 1]]\n",
    "\n",
    "x, y = numpy.random.multivariate_normal(mean, cov, 100).T\n",
    "plt.plot(x, y, 'x')\n",
    "plt.axis('equal')\n",
    "plt.show()"
   ]
  },
  {
   "cell_type": "code",
   "execution_count": 92,
   "metadata": {},
   "outputs": [
    {
     "name": "stdout",
     "output_type": "stream",
     "text": [
      "The classification accuracy is 0.92\n",
      "The classification accuracy is 0.837\n",
      "The classification accuracy is 0.824\n"
     ]
    }
   ],
   "source": [
    "import torch\n",
    "import numpy as np\n",
    "from torch.distributions import normal\n",
    "from torch.distributions import multivariate_normal\n",
    "\n",
    "\n",
    "''' Read data from txt as tensors'''\n",
    "def readData(trainFile, testFile, valFile):\n",
    "    \n",
    "    # read training data\n",
    "    train_data = np.loadtxt(trainFile)\n",
    "    train_vec = train_data[:,:-1]\n",
    "    train_lab = train_data[:,-1]\n",
    "    \n",
    "    # read testing data\n",
    "    test_data = np.loadtxt(testFile)\n",
    "    test_vec = test_data[:,:-1]\n",
    "    test_lab = test_data[:,-1]\n",
    "    \n",
    "    # read validation data\n",
    "    val_data = np.loadtxt(valFile)\n",
    "    val_vec = val_data[:,:-1]\n",
    "    val_lab = val_data[:,-1]\n",
    "    \n",
    "    return torch.tensor(train_vec), torch.tensor(train_lab), torch.tensor(test_vec), torch.tensor(test_lab), \\\n",
    "        torch.tensor(val_vec), torch.tensor(val_lab)\n",
    "\n",
    "# feature extractors\n",
    "'''\n",
    "    Feature extractor 0 --- only for univariate gaussian\n",
    "    input: vectors of extended image (None, 784)\n",
    "    output: sum of all pixel values for each image (None, 1)\n",
    "    '''\n",
    "def fe0(X):\n",
    "    return torch.sum(X,dim=1)\n",
    "\n",
    "'''\n",
    "    Feature extractor 1 --- only for multivariate gaussian\n",
    "    input: vectors of extended image (None, 784)\n",
    "    output: number of nonzero pixels on each row & each column.  (None, 56)\n",
    "    Remember that the input image is of size 28*28\n",
    "'''\n",
    "def fe1(X):\n",
    "    X_row = torch.where(X>0,torch.ones_like(X),torch.zeros_like(X)).reshape(-1,28,28)\\\n",
    "    .sum(dim=1)\n",
    "    X_col = torch.where(X>0,torch.ones_like(X),torch.zeros_like(X)).reshape(-1,28,28)\\\n",
    "    .sum(dim=2)\n",
    "    return torch.cat([X_row,X_col],dim=1)\n",
    "\n",
    "'''\n",
    "    Feature extractor 2 --- only for multivariate gaussian\n",
    "    input: vectors of extended image (None, 784)\n",
    "    output: input                    (None, 784)\n",
    "'''\n",
    "def fe2(X):\n",
    "    return X    # this function does nothing :( but you can build your own features if you like! :)\n",
    "\n",
    "fe = [fe0,fe1,fe2]\n",
    "\n",
    "# do not change these\n",
    "prior = None       # list of the priors. Made from empirical counts\n",
    "dists = None       # list of Gaussian distributions likelihood. size = number of classes\n",
    "num_c = 0          # number of classes\n",
    "ID_FE = 0          # select feature extractor\n",
    "\n",
    "'''\n",
    "    Train your model\n",
    "    input: X - training data\n",
    "           y - training labels\n",
    "           uni - set as True for univariate model\n",
    "'''\n",
    "def train(X,y,uni=True):\n",
    "    global ID_FE\n",
    "    if uni:\n",
    "        ID_FE=0\n",
    "    else:\n",
    "        ID_FE=1\n",
    "    global dists; dists = list()\n",
    "    uniq_y = torch.unique(y)                           # get all labels\n",
    "    global num_c; num_c = uniq_y.shape[0]              # number of classes\n",
    "    global prior; prior = torch.zeros(uniq_y.shape) # initialize prior P(Y) to zeros\n",
    "    for idx in range(num_c):           # for each label\n",
    "        mask = torch.eq(y,idx)\n",
    "        x_by_label = X[mask]           # select all observations with label\n",
    "        \n",
    "        prior[idx] = len(x_by_label) / len(X)              ##### TODO : Estimate your model's prior P(Y) (parts a, b, and c)\n",
    "        \n",
    "        x = fe[ID_FE](x_by_label)      # extract the feature vector\n",
    "        \n",
    "        if uni: ##### Univariate gaussian (parts a and b)\n",
    "            \n",
    "            ########### TODO: Estimate the univariate Gaussian conditional distributions (parts a and b)           \n",
    "            ##### Hint: Compute the empirical mean and variance. Then you can call PyTorch's \"Normal\" \n",
    "            #####       function with the correct arguments to build the distribution. We have already \n",
    "            #####       imported the relevant function for you. You can refer to PyTorch's official       \n",
    "            #####       documentation for more info. \n",
    "            x_mean = torch.mean(x)                ##### TODO : calculate the mean value \n",
    "            x_var =  torch.from_numpy(np.cov(x))                  ##### TODO : calculate the variance\n",
    "            print(idx, \":\\tprior:\" , prior[idx].numpy(), \"\\tvar:\" , torch.var(x).item(), \"\\tmean:\", x_mean.item())\n",
    "            gaussian_dist = torch.distributions.normal.Normal(x_mean, x_var**.5)          ##### TODO : replace 'None' with distribution's constructor\n",
    "            \n",
    "        else: ##### Multivariate Gaussian. (part c)\n",
    "            \n",
    "            ########### TODO: Estimate the multivariate Gaussian conditional distributions (part c)           \n",
    "            ##### Hint: In this part, you will call PyTorch's \"MultivariateNormal\" function to biuld    \n",
    "            #####       a multivariate normal distribution. The function is already imported.     \n",
    "            x_mean= torch.mean(x,0)                  ##### TODO : estimate the mean vector\n",
    "            x_cov = torch.from_numpy(np.cov(x.T)) + (1.28*torch.eye(len(x_mean), dtype=torch.float64))                   ##### TODO : estimate the covariance matrix\n",
    "            gaussian_dist = torch.distributions.multivariate_normal.MultivariateNormal(x_mean, x_cov)          ##### TODO : replace 'None' with distribution's constructor\n",
    "            \n",
    "        dists.append(gaussian_dist)\n",
    "    return\n",
    "\n",
    "'''\n",
    "    Use Bayes rule to predict on one sample\n",
    "'''\n",
    "def predict(x):\n",
    "    x = fe[ID_FE](torch.reshape(x,(1,-1)))\n",
    "    result = [dists[i].log_prob(x)*prior[i] for i in range(num_c)]\n",
    "    return torch.argmax(torch.tensor(result))\n",
    "\n",
    "'''\n",
    "    Evaluate classification accuracy\n",
    "'''\n",
    "def evaluate(X,y):\n",
    "    correct = 0\n",
    "    for i in range(X.shape[0]):\n",
    "        if predict(X[i]) == y[i].long():\n",
    "            correct = correct + 1\n",
    "    print('The classification accuracy is {}'.format(correct/X.shape[0]))\n",
    "    return\n",
    "\n",
    "\n",
    "if __name__ == \"__main__\":\n",
    "    \n",
    "    # TODO: Replace with  correct paths to the data files (parts a, b, and c)\n",
    "    train_vec, train_lab, test_vec, test_lab, val_vec, val_lab = readData('hw0train.txt','hw0test.txt','hw0validate.txt')   \n",
    "\n",
    "#    train(train_vec,train_lab,True)   # (parts a and b) Call univariate train function to estimate your model's parameters from the training data\n",
    "    train(train_vec,train_lab,False)  # (part c) Call multivariate train function to estimate your model's parameters from the training data\n",
    "\n",
    "    evaluate(train_vec, train_lab)    # Call evaluate function to compute classification error on the training data.\n",
    "    evaluate(val_vec, val_lab)        # Call evaluate function to compute classification error on the validation data.\n",
    "    evaluate(test_vec, test_lab)      # Call evaluate function to compute classification error on the test data.\n"
   ]
  }
 ],
 "metadata": {
  "kernelspec": {
   "display_name": "Python 3",
   "language": "python",
   "name": "python3"
  },
  "language_info": {
   "codemirror_mode": {
    "name": "ipython",
    "version": 3
   },
   "file_extension": ".py",
   "mimetype": "text/x-python",
   "name": "python",
   "nbconvert_exporter": "python",
   "pygments_lexer": "ipython3",
   "version": "3.7.4"
  }
 },
 "nbformat": 4,
 "nbformat_minor": 2
}
